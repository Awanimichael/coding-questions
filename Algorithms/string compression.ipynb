{
 "cells": [
  {
   "cell_type": "code",
   "execution_count": 33,
   "metadata": {},
   "outputs": [],
   "source": [
    "#String Compression Problem Given a string in the form 'AAAABBBBCCCCCDDEEEE' compress it to become 'A4B4C5D2E4'. \n",
    "#For this problem, you can falsely \"compress\" strings of single or double letters. \n",
    "#For instance, it is okay for 'AAB' to return 'A2B1' even though this technically takes more space.\n",
    "#The function should also be case sensitive, so that a string 'AAAaaa' returns 'A3a3'.\n",
    "def compress2(string):\n",
    "    \n",
    "    if len(string) ==0:\n",
    "        return \"\"\n",
    "    if len(string) == 1:\n",
    "        return string + \"1\"\n",
    "    \n",
    "    new_string =''\n",
    "    \n",
    "    count =0\n",
    "    length = len(string)\n",
    "    \n",
    "    for i in range(0,length):\n",
    "        if string[i] == string[i-1]:\n",
    "            count+=1\n",
    "        else:\n",
    "            new_string= new_string + string[i-1]+ str(count)\n",
    "            count = 1\n",
    "    new_string= new_string + string[i]+ str(count)\n",
    "    \n",
    "    print(new_string[2:])"
   ]
  },
  {
   "cell_type": "code",
   "execution_count": 34,
   "metadata": {},
   "outputs": [
    {
     "name": "stdout",
     "output_type": "stream",
     "text": [
      "A4B4C5D1E4\n"
     ]
    }
   ],
   "source": [
    "compress2('AAAABBBBCCCCCDEEEE')"
   ]
  },
  {
   "cell_type": "code",
   "execution_count": 36,
   "metadata": {},
   "outputs": [],
   "source": [
    "def compress(string):\n",
    "    dicto = {}\n",
    "    for char in string:\n",
    "        dicto[char]= dicto.get(char,0) + 1\n",
    "    print(dicto)\n",
    "    \n",
    "    \n",
    "    newstring = \"\"\n",
    "    for key,values in dicto.items():\n",
    "        if values == 1:\n",
    "            newstring = newstring + key\n",
    "        else:\n",
    "            newstring = newstring + str(values) + key\n",
    "            \n",
    "            \n",
    "    print(newstring)"
   ]
  },
  {
   "cell_type": "code",
   "execution_count": 37,
   "metadata": {},
   "outputs": [
    {
     "name": "stdout",
     "output_type": "stream",
     "text": [
      "A4B4C5D1E4\n"
     ]
    }
   ],
   "source": [
    "compress2('AAAABBBBCCCCCDEEEE')"
   ]
  },
  {
   "cell_type": "code",
   "execution_count": null,
   "metadata": {},
   "outputs": [],
   "source": []
  }
 ],
 "metadata": {
  "kernelspec": {
   "display_name": "Python 3",
   "language": "python",
   "name": "python3"
  },
  "language_info": {
   "codemirror_mode": {
    "name": "ipython",
    "version": 3
   },
   "file_extension": ".py",
   "mimetype": "text/x-python",
   "name": "python",
   "nbconvert_exporter": "python",
   "pygments_lexer": "ipython3",
   "version": "3.6.5"
  }
 },
 "nbformat": 4,
 "nbformat_minor": 2
}
