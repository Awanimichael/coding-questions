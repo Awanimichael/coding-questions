{
 "cells": [
  {
   "cell_type": "code",
   "execution_count": 10,
   "metadata": {},
   "outputs": [],
   "source": [
    "#Sentence Reversal\n",
    "#Problem Given a string of words, reverse all the words. For example:\n",
    "#Given:\n",
    "#'This is the best'\n",
    "#Return:\n",
    "#'best the is This'\n",
    "#As part of this exercise you should remove all leading and trailing whitespace. So that inputs such as:\n",
    "#' space here' and 'space here '\n",
    "#both become:\n",
    "#'here space'\n",
    "\n",
    "\n",
    "def sentence_reversal(string):\n",
    "    new_sentence = string.split()\n",
    "    for index in new_sentence[::-1]:\n",
    "        print(index)"
   ]
  },
  {
   "cell_type": "code",
   "execution_count": 11,
   "metadata": {},
   "outputs": [
    {
     "name": "stdout",
     "output_type": "stream",
     "text": [
      "after\n",
      "space\n"
     ]
    }
   ],
   "source": [
    "sentence_reversal('space after     ')"
   ]
  },
  {
   "cell_type": "code",
   "execution_count": null,
   "metadata": {},
   "outputs": [],
   "source": []
  }
 ],
 "metadata": {
  "kernelspec": {
   "display_name": "Python 3",
   "language": "python",
   "name": "python3"
  },
  "language_info": {
   "codemirror_mode": {
    "name": "ipython",
    "version": 3
   },
   "file_extension": ".py",
   "mimetype": "text/x-python",
   "name": "python",
   "nbconvert_exporter": "python",
   "pygments_lexer": "ipython3",
   "version": "3.6.5"
  }
 },
 "nbformat": 4,
 "nbformat_minor": 2
}
