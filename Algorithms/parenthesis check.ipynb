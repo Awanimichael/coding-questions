{
 "cells": [
  {
   "cell_type": "code",
   "execution_count": 1,
   "metadata": {},
   "outputs": [],
   "source": [
    "from pythonds.basic.stack import Stack\n",
    "\n",
    "def paren_check(pars):\n",
    "    \n",
    "    if len(pars) % 2 != 0:\n",
    "        return False\n",
    "    opening_set = set('({[')\n",
    "    \n",
    "    matching_pairs = set([('(',')'),('{','}'),('[',']')])\n",
    "    \n",
    "    s= Stack()\n",
    "    \n",
    "    for parent in pars:\n",
    "        if parent in opening_set:\n",
    "            s.push(parent)\n",
    "        else:\n",
    "            if s.size()==0:\n",
    "                return False\n",
    "            last_open = s.pop()\n",
    "            \n",
    "            if (last_open,parent) not in matching_pairs:\n",
    "                return False\n",
    "    return s.size()==0"
   ]
  },
  {
   "cell_type": "code",
   "execution_count": 3,
   "metadata": {},
   "outputs": [
    {
     "name": "stdout",
     "output_type": "stream",
     "text": [
      "True\n",
      "True\n",
      "False\n",
      "True\n",
      "False\n"
     ]
    }
   ],
   "source": [
    "print(paren_check(\"{}\"))\n",
    "print(paren_check('[](){([[[]]])}'))\n",
    "print(paren_check('()(){]}'))\n",
    "print(paren_check('{{([][])}()}'))\n",
    "print(paren_check('[{()]'))"
   ]
  },
  {
   "cell_type": "code",
   "execution_count": null,
   "metadata": {},
   "outputs": [],
   "source": []
  }
 ],
 "metadata": {
  "kernelspec": {
   "display_name": "Python 3",
   "language": "python",
   "name": "python3"
  },
  "language_info": {
   "codemirror_mode": {
    "name": "ipython",
    "version": 3
   },
   "file_extension": ".py",
   "mimetype": "text/x-python",
   "name": "python",
   "nbconvert_exporter": "python",
   "pygments_lexer": "ipython3",
   "version": "3.6.5"
  }
 },
 "nbformat": 4,
 "nbformat_minor": 2
}
