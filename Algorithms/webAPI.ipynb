{
 "cells": [
  {
   "cell_type": "code",
   "execution_count": 1,
   "metadata": {},
   "outputs": [],
   "source": [
    "def test(url):\n",
    "    unique_url={}\n",
    "    all_data = [\n",
    "        {'page_time': 13.5,'url': 'google.com'},{'page_time': 56.5,'url': 'moat.com'},{'page_time': 56.5,'url': 'vip.com'}\n",
    "    ]\n",
    "    \n",
    "    if url not in unique_url:\n",
    "        unique_url[url] = 1\n",
    "    else:\n",
    "        unique_url[url] += 1\n",
    "\n",
    "    for records in all_data:\n",
    "        print(records['url'])\n",
    "        if records['url'] == url:\n",
    "            hitcount = unique_url[records['url']]\n",
    "            newpair = {\"total_hits\": hitcount}\n",
    "            records.update(newpair)\n",
    "        records\n",
    "    return all_data\n",
    "        \n",
    "def top_ten():\n",
    "    val = test('google.com')\n",
    "    return sorted(val[:1], key = lambda i: i['total_hits'], reverse=True)\n",
    "        \n",
    "#         for key,value in val.items():\n",
    "#             if value == url and value in unique_url.keys():\n",
    "#                 newpair = {\"total_hits\": unique_url.get(value)}\n",
    "#         if url in val.values():\n",
    "#             val.update(newpair)\n",
    "#         else:\n",
    "#             val\n",
    "                \n",
    "#     return all_data\n",
    "    \n"
   ]
  },
  {
   "cell_type": "code",
   "execution_count": 2,
   "metadata": {},
   "outputs": [
    {
     "name": "stdout",
     "output_type": "stream",
     "text": [
      "google.com\n",
      "moat.com\n",
      "vip.com\n",
      "[{'page_time': 13.5, 'url': 'google.com', 'total_hits': 1}]\n"
     ]
    }
   ],
   "source": [
    "print(top_ten())"
   ]
  },
  {
   "cell_type": "code",
   "execution_count": 3,
   "metadata": {},
   "outputs": [
    {
     "name": "stdout",
     "output_type": "stream",
     "text": [
      "[{'name': 'Manjeet', 'age': 21}, {'name': 'Nandini', 'age': 20}]\n"
     ]
    }
   ],
   "source": [
    "lis = [{ \"name\" : \"Nandini\", \"age\" : 20},  \n",
    "{ \"name\" : \"Manjeet\", \"age\" : 21 }, \n",
    "{ \"name\" : \"Nikhil\" , \"age\" : 19 }]\n",
    "\n",
    "print(sorted(lis[:2], key = lambda i: i['age'], reverse = True))"
   ]
  },
  {
   "cell_type": "code",
   "execution_count": 4,
   "metadata": {},
   "outputs": [],
   "source": [
    "def test(url):\n",
    "    myData = []\n",
    "    hit = 0\n",
    "    data = {'page_time': 13.5,'url': 'google.com'}\n",
    "    if data['url'] == url:\n",
    "        hit += 1\n",
    "        data[\"hits\"] = hit\n",
    "    myData.append(data)\n",
    "    return myData\n"
   ]
  },
  {
   "cell_type": "code",
   "execution_count": 5,
   "metadata": {},
   "outputs": [
    {
     "name": "stdout",
     "output_type": "stream",
     "text": [
      "[{'page_time': 13.5, 'url': 'google.com', 'hits': 1}]\n"
     ]
    }
   ],
   "source": [
    "print(test('google.com'))"
   ]
  },
  {
   "cell_type": "code",
   "execution_count": 6,
   "metadata": {},
   "outputs": [
    {
     "ename": "ModuleNotFoundError",
     "evalue": "No module named 'cx_oracle'",
     "output_type": "error",
     "traceback": [
      "\u001b[0;31m---------------------------------------------------------------------------\u001b[0m",
      "\u001b[0;31mModuleNotFoundError\u001b[0m                       Traceback (most recent call last)",
      "\u001b[0;32m<ipython-input-6-8562fee8afdc>\u001b[0m in \u001b[0;36m<module>\u001b[0;34m()\u001b[0m\n\u001b[1;32m      2\u001b[0m \u001b[0;34m\u001b[0m\u001b[0m\n\u001b[1;32m      3\u001b[0m \u001b[0;32mimport\u001b[0m \u001b[0mflask\u001b[0m\u001b[0;34m\u001b[0m\u001b[0m\n\u001b[0;32m----> 4\u001b[0;31m \u001b[0;32mimport\u001b[0m \u001b[0mcx_oracle\u001b[0m\u001b[0;34m\u001b[0m\u001b[0m\n\u001b[0m\u001b[1;32m      5\u001b[0m \u001b[0;32mfrom\u001b[0m \u001b[0mflask\u001b[0m \u001b[0;32mimport\u001b[0m \u001b[0mrequest\u001b[0m\u001b[0;34m,\u001b[0m \u001b[0mjsonify\u001b[0m\u001b[0;34m\u001b[0m\u001b[0m\n\u001b[1;32m      6\u001b[0m \u001b[0;32mfrom\u001b[0m \u001b[0mitertools\u001b[0m \u001b[0;32mimport\u001b[0m \u001b[0mgroupby\u001b[0m\u001b[0;34m\u001b[0m\u001b[0m\n",
      "\u001b[0;31mModuleNotFoundError\u001b[0m: No module named 'cx_oracle'"
     ]
    }
   ],
   "source": [
    "#counter_ API\n",
    "\n",
    "import flask\n",
    "import cx_oracle\n",
    "from flask import request, jsonify\n",
    "from itertools import groupby\n",
    "from operator import itemgetter\n",
    "\n",
    "#we assume that the function to calculate the time spent on a url, the url visited and the function to check is_bot is already caulated and data stored in \n",
    "#in a table in Oracle DB called browserRecord\n",
    "\n",
    "app = flask.Flask(__name__)\n",
    "app.config[\"DEBUG\"] = True\n",
    "\n",
    "# impression = [\n",
    "#     {\n",
    "#       'url': 'moat.com',\n",
    "#       'page_time': 234.2,\n",
    "#       'total_hits': 1,\n",
    "#       'is_bot': 1\n",
    "#     },\n",
    "#     {\n",
    "#       'url': 'google.com',\n",
    "#       'page_time': 467.2,\n",
    "#       'total_hits': 1,\n",
    "#       \n",
    "#     },\n",
    "#     {\n",
    "#       'url': 'google.com',\n",
    "#       'page_time': 34.2,\n",
    "#       'total_hits': 1,\n",
    "#       'is_bot': 0\n",
    "#     }\n",
    "# ]\n",
    "\n",
    "#impression route validates the query parament and fetch the data from the database \n",
    "#It records a hit on very url and spits out a JSON structure of the data.\n",
    "\n",
    "@app.route('/impression', methods=['GET'])\n",
    "def api_filter():\n",
    "    hit = 0\n",
    "    is_bot = 0\n",
    "    query_parameters = request.args\n",
    "\n",
    "    page_time = query_parameters.get('page_time')\n",
    "    url = query_parameters.get('url')\n",
    "    # if the request paramenter is given in the argument then get it\n",
    "    if query_parameters.get('is_bot'):\n",
    "        is_bot = query_parameters.get('is_bot')\n",
    "        \n",
    "    #impression list to store updated rawData objects with hit record along with page_time and is_bot\n",
    "    impression = []\n",
    "    filterBy = []\n",
    "\n",
    "    query = \"SELECT * FROM bowserRecord WHERE\"\n",
    "    \n",
    "    #check the query parameter and update query based on given parameter\n",
    "    #whenever a url is queried record hit\n",
    "    if url:\n",
    "        query += 'url=? AND'\n",
    "        filter.append[url]\n",
    "        hit = 1\n",
    "       \n",
    "    if page_time:\n",
    "        query += 'page_time=? AND'\n",
    "        filter.append[page_time]\n",
    "    if is_bot:\n",
    "        query += 'is_bot=?'\n",
    "        filter.append[is_bot]\n",
    "\n",
    "    #connect to the Oracle DB and fetch result based on query parameter\n",
    "    #convert result into json using python flask jsonify function\n",
    "    #update the json object with url hit and append records to impression list\n",
    "    conn = cx_Oracle.connect('DB')\n",
    "    cur = con.cursor()\n",
    "    result = cur.execute(query, filterBy).fetchall()\n",
    "    rawData = jsonify(result)\n",
    "    rawData[\"hit\"] = hit\n",
    "    impression.append(rawData)\n",
    "    return impression\n",
    "\n",
    "\n",
    "\n",
    "#aggregate function computes the aggregated data and returns the list of objects\n",
    "def aggregate():\n",
    "    data = api_filter()\n",
    "    table = {}\n",
    "\n",
    "    #create a hashmap called tale and aggregate by url for each object in data.\n",
    "    #table structure {'url1': {url: 'url1', avg_page_time: sum_page_time, 'total_hits': sum_total_hits, 'bot_percentage': sum_isbot}, 'url2': {same structure as url1} }\n",
    "    #aggData structure [{url: 'url1', 'avg_page_time': avg, 'total_hits': sum_total_hits, 'bot_percentage': %is_bot}, 'url2': {same structure as url1},{}]\n",
    "    for obj in data:\n",
    "        #put default values in table\n",
    "        if obj['url'] not in table:\n",
    "            table[obj['url']] = {'url': obj['url'], 'avg_page_time':0.0, 'total_hits': 0, 'bot_percentage': 0.0}\n",
    "            \n",
    "        table[obj['url']]['total_hits'] += obj['total_hits']\n",
    "        table[obj['url']]['avg_page_time'] += obj['page_time']\n",
    "        \n",
    "        #check if is_bot is present in each object, then find the cummulative sum\n",
    "        if obj['is_bot']: \n",
    "            table[obj['url']]['bot_percentage'] += obj['is_bot']\n",
    "   \n",
    "    aggData = list(table.values())\n",
    "    \n",
    "    # loop through each object in aggData, compute the avg_page_time and bot_percentage and update aggData with these \n",
    "    #new values\n",
    "    for val in aggData:\n",
    "        avg = float(val['avg_page_time']/val['total_hits'])\n",
    "        bot = float(val['bot_percentage']/val['total_hits']) \n",
    "    val['avg_page_time'] = avg\n",
    "    val['bot_percentage'] = bot\n",
    "    \n",
    "    return aggData\n",
    "\n",
    "\n",
    "# top_ten route calls the agregate function, sorts and order the objects by total_hits in descending order\n",
    "@app.route('/top_ten', methods=['GET'])\n",
    "def top_ten():\n",
    "    myData = aggregate()\n",
    "    #return top 10 record using python list slice [:10] lambda function helps to sort by total hits\n",
    "    #reverse set to true so it orders in decreasing order of total hits\n",
    "    return sorted(myData[:10], key = lambda i: i['total_hits'], reverse=True) \n",
    "\n",
    "\n",
    "app.run()\n",
    "\n",
    "    \n",
    "\n",
    "    \n"
   ]
  },
  {
   "cell_type": "code",
   "execution_count": 28,
   "metadata": {},
   "outputs": [
    {
     "name": "stdout",
     "output_type": "stream",
     "text": [
      "234.2\n",
      "521.6\n",
      "[{'url': 'moat.com', 'avg_page_time': 234.2, 'total_hits': 1, 'bot_percentage': 1.0}, {'url': 'google.com', 'avg_page_time': 173.86666666666667, 'total_hits': 3, 'bot_percentage': 0.02}]\n"
     ]
    }
   ],
   "source": [
    "print(agregate())"
   ]
  },
  {
   "cell_type": "code",
   "execution_count": null,
   "metadata": {},
   "outputs": [],
   "source": []
  }
 ],
 "metadata": {
  "kernelspec": {
   "display_name": "Python 3",
   "language": "python",
   "name": "python3"
  },
  "language_info": {
   "codemirror_mode": {
    "name": "ipython",
    "version": 3
   },
   "file_extension": ".py",
   "mimetype": "text/x-python",
   "name": "python",
   "nbconvert_exporter": "python",
   "pygments_lexer": "ipython3",
   "version": "3.6.5"
  }
 },
 "nbformat": 4,
 "nbformat_minor": 2
}
