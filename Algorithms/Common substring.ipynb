{
 "cells": [
  {
   "cell_type": "code",
   "execution_count": 28,
   "metadata": {},
   "outputs": [],
   "source": [
    "\n",
    "# Given two strings, determine if they share a common substring. A substring may be as small as one character.\n",
    "# For example, the words \"a\", \"and\", \"art\" share the common substring . The words \"be\" and \"cat\" do not share a substring. \n",
    "# Function Description Complete the function twoStrings in the editor below. It should return a string, either or based on whether the strings share a common substring. \n",
    "# twoStrings has the following parameter(s): s1, s2: two strings to analyze . Input Format The first line contains a single integer , the number of test cases. \n",
    "# The following pairs of lines are as follows: The first line contains string . The second line contains string .\n",
    "\n",
    "\n",
    "def twoStrings(s1, s2):\n",
    "    \n",
    "    s_1 = list (s1)\n",
    "    \n",
    "    s_2 = list (s2)\n",
    "\n",
    "    \n",
    "    string_dict = {}\n",
    "    \n",
    "    for char in s1:\n",
    "        string_dict[char] = string_dict.get(char,0)+1 \n",
    "#         print(string_dict)\n",
    "        \n",
    "    for char in s2:\n",
    "        if char not in string_dict:\n",
    "            return \"NO\"\n",
    "        else:\n",
    "            return \"YES\""
   ]
  },
  {
   "cell_type": "code",
   "execution_count": 29,
   "metadata": {},
   "outputs": [
    {
     "name": "stdout",
     "output_type": "stream",
     "text": [
      "YES\n"
     ]
    }
   ],
   "source": [
    "print(twoStrings(\"arti\",\"ti\"))"
   ]
  },
  {
   "cell_type": "code",
   "execution_count": null,
   "metadata": {},
   "outputs": [],
   "source": []
  }
 ],
 "metadata": {
  "kernelspec": {
   "display_name": "Python 3",
   "language": "python",
   "name": "python3"
  },
  "language_info": {
   "codemirror_mode": {
    "name": "ipython",
    "version": 3
   },
   "file_extension": ".py",
   "mimetype": "text/x-python",
   "name": "python",
   "nbconvert_exporter": "python",
   "pygments_lexer": "ipython3",
   "version": "3.6.5"
  }
 },
 "nbformat": 4,
 "nbformat_minor": 2
}
