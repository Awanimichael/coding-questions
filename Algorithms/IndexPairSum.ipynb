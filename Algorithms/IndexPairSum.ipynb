{
 "cells": [
  {
   "cell_type": "code",
   "execution_count": null,
   "metadata": {},
   "outputs": [],
   "source": [
    "def secondSmallest(arr):\n",
    "    s1 = arr[0]\n",
    "    s2 = arr[1]\n",
    "    \n",
    "    for i in range(len(arr)):\n",
    "        if arr[i] < s1:\n",
    "            s1 = arr[i]\n",
    "            s2 = arr[0]\n",
    "        elif arr[i] < s2:\n",
    "            s2 = arr[i]\n",
    "            \n",
    "    return s2"
   ]
  },
  {
   "cell_type": "code",
   "execution_count": null,
   "metadata": {},
   "outputs": [],
   "source": [
    "print(secondSmallest([3,1,2,4,5]))"
   ]
  },
  {
   "cell_type": "code",
   "execution_count": 19,
   "metadata": {},
   "outputs": [],
   "source": [
    "def indexPairSum(arr, target):\n",
    "    front = 0\n",
    "    rear = len(arr)-1\n",
    "    myset = set()\n",
    "    mylist = []\n",
    "    \n",
    "    while front <= rear:\n",
    "        if arr[front] + arr[rear] > target:\n",
    "            rear = rear - 1\n",
    "        elif arr[front] + arr[rear] < target:\n",
    "            front = front + 1\n",
    "        else:\n",
    "            mylist.append((front,rear))\n",
    "            front = front + 1\n",
    "            rear = rear - 1\n",
    "    return mylist\n",
    "            "
   ]
  },
  {
   "cell_type": "code",
   "execution_count": 20,
   "metadata": {},
   "outputs": [
    {
     "name": "stdout",
     "output_type": "stream",
     "text": [
      "[(0, 3), (1, 2)]\n"
     ]
    }
   ],
   "source": [
    "print(indexPairSum([2,3,6,7,11,15], 9))"
   ]
  }
 ],
 "metadata": {
  "kernelspec": {
   "display_name": "Python 3",
   "language": "python",
   "name": "python3"
  },
  "language_info": {
   "codemirror_mode": {
    "name": "ipython",
    "version": 3
   },
   "file_extension": ".py",
   "mimetype": "text/x-python",
   "name": "python",
   "nbconvert_exporter": "python",
   "pygments_lexer": "ipython3",
   "version": "3.6.5"
  }
 },
 "nbformat": 4,
 "nbformat_minor": 2
}
