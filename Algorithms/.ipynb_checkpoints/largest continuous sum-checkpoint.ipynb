{
 "cells": [
  {
   "cell_type": "code",
   "execution_count": 2,
   "metadata": {},
   "outputs": [],
   "source": [
    "\n",
    "#Problem Given an array of integers (positive and negative) find the largest continuous sum.\n",
    "#Solution If the array is all positive, then the result is simply the sum of all numbers. \n",
    "#The negative numbers in the array will cause us to need to begin checking sequences.\n",
    "#The algorithm is, we start summing up the numbers and store in a current sum variable. \n",
    "#After adding each element, we check whether the current sum is larger than maximum sum encountered so far. \n",
    "#If it is, we update the maximum sum. As long as the current sum is positive, we keep adding the numbers. \n",
    "#When the current sum becomes negative, we start with a new current sum. \n",
    "#Because a negative current sum will only decrease the sum of a future sequence. \n",
    "#Note that we don’t reset the current sum to 0 because the array can contain all negative integers. \n",
    "#Then the result would be the largest negative number.\n",
    "\n",
    "\n",
    "def largest_sum(arr):\n",
    "    \n",
    "    current_sum=max_sum=arr[0]\n",
    "    \n",
    "    for num in arr[1:]:\n",
    "        current_sum = max(current_sum+num,num)\n",
    "        max_sum=max(current_sum,max_sum)\n",
    "    return max_sum"
   ]
  },
  {
   "cell_type": "code",
   "execution_count": 3,
   "metadata": {},
   "outputs": [
    {
     "data": {
      "text/plain": [
       "29"
      ]
     },
     "execution_count": 3,
     "metadata": {},
     "output_type": "execute_result"
    }
   ],
   "source": [
    "largest_sum([1,2,-1,3,4,10,10,-10,-1])"
   ]
  },
  {
   "cell_type": "code",
   "execution_count": null,
   "metadata": {},
   "outputs": [],
   "source": []
  }
 ],
 "metadata": {
  "kernelspec": {
   "display_name": "Python 3",
   "language": "python",
   "name": "python3"
  },
  "language_info": {
   "codemirror_mode": {
    "name": "ipython",
    "version": 3
   },
   "file_extension": ".py",
   "mimetype": "text/x-python",
   "name": "python",
   "nbconvert_exporter": "python",
   "pygments_lexer": "ipython3",
   "version": "3.6.5"
  }
 },
 "nbformat": 4,
 "nbformat_minor": 2
}
