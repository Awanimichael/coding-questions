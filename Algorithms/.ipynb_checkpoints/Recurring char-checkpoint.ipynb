{
 "cells": [
  {
   "cell_type": "code",
   "execution_count": 1,
   "metadata": {},
   "outputs": [],
   "source": [
    "def first_recurring(string):\n",
    "    mydict = {} \n",
    "    for char in string:\n",
    "        if char in mydict:\n",
    "            return char\n",
    "        mydict[char] = 1\n",
    "    return 'No recurring char'\n"
   ]
  },
  {
   "cell_type": "code",
   "execution_count": 2,
   "metadata": {},
   "outputs": [
    {
     "name": "stdout",
     "output_type": "stream",
     "text": [
      "b\n"
     ]
    }
   ],
   "source": [
    "print (first_recurring('abcdbcd'))"
   ]
  },
  {
   "cell_type": "code",
   "execution_count": 9,
   "metadata": {},
   "outputs": [],
   "source": [
    "def frist_non_recurring(string):\n",
    "    mylist = []\n",
    "    mydict = {}\n",
    "    \n",
    "    for char in string:\n",
    "        if char in mydict:\n",
    "            mydict[char] += 1\n",
    "        else:\n",
    "            mydict[char] = 1\n",
    "            mylist.append(char)\n",
    "    for char in mylist:\n",
    "        if mydict[char] == 1:\n",
    "            return char\n",
    "    return None\n",
    "    "
   ]
  },
  {
   "cell_type": "code",
   "execution_count": 10,
   "metadata": {},
   "outputs": [
    {
     "name": "stdout",
     "output_type": "stream",
     "text": [
      "d\n"
     ]
    }
   ],
   "source": [
    "print (frist_non_recurring('abcabcdef'))"
   ]
  },
  {
   "cell_type": "code",
   "execution_count": 16,
   "metadata": {},
   "outputs": [],
   "source": [
    "def all_recurring(string):\n",
    "    mydict = {}\n",
    "    mylist = []\n",
    "    \n",
    "    for char in string:\n",
    "        if char in mydict:\n",
    "            mydict[char] += 1\n",
    "            mylist.append(char)\n",
    "        else:\n",
    "            mydict[char] = 1\n",
    "    if not mylist:\n",
    "        return 'No recurring char'\n",
    "    else:\n",
    "        return mylist"
   ]
  },
  {
   "cell_type": "code",
   "execution_count": 17,
   "metadata": {},
   "outputs": [
    {
     "name": "stdout",
     "output_type": "stream",
     "text": [
      "['a', 'b', 'c']\n"
     ]
    }
   ],
   "source": [
    "print(all_recurring('abcabcdef'))"
   ]
  },
  {
   "cell_type": "code",
   "execution_count": 98,
   "metadata": {},
   "outputs": [],
   "source": [
    "def all_non_recurring(string):\n",
    "    table = {}\n",
    "    mylist = []\n",
    "    \n",
    "    for char in string:\n",
    "        if char in table:\n",
    "            table[char] +=1\n",
    "        else:\n",
    "            table[char] = 1\n",
    "    return [key for key, value in table.items()if value==1]"
   ]
  },
  {
   "cell_type": "code",
   "execution_count": 99,
   "metadata": {},
   "outputs": [
    {
     "name": "stdout",
     "output_type": "stream",
     "text": [
      "['e', 'f']\n"
     ]
    }
   ],
   "source": [
    "print(all_non_recurring('abcabcef'))"
   ]
  },
  {
   "cell_type": "code",
   "execution_count": null,
   "metadata": {},
   "outputs": [],
   "source": []
  }
 ],
 "metadata": {
  "kernelspec": {
   "display_name": "Python 3",
   "language": "python",
   "name": "python3"
  },
  "language_info": {
   "codemirror_mode": {
    "name": "ipython",
    "version": 3
   },
   "file_extension": ".py",
   "mimetype": "text/x-python",
   "name": "python",
   "nbconvert_exporter": "python",
   "pygments_lexer": "ipython3",
   "version": "3.6.5"
  }
 },
 "nbformat": 4,
 "nbformat_minor": 2
}
