{
 "cells": [
  {
   "cell_type": "code",
   "execution_count": null,
   "metadata": {},
   "outputs": [],
   "source": [
    "Array Pair Sum\n",
    "Problem Given an integer array, output all the unique pairs that sum up to a specific value k.\n",
    "So the input:\n",
    "pair_sum([1,3,2,2],4)\n",
    "would return 2 pairs:\n",
    "(1,3) (2,2)\n",
    "NOTE: FOR TESTING PURPOSES CHANGE YOUR FUNCTION SO IT OUTPUTS THE NUMBER OF PAIRS"
   ]
  },
  {
   "cell_type": "code",
   "execution_count": 1,
   "metadata": {},
   "outputs": [],
   "source": [
    "def pair_sum(arr,target):\n",
    "    \n",
    "    if len(arr)== 0:\n",
    "        raise ValueError (\"Invalid \")\n",
    "    \n",
    "    seen = set()\n",
    "    output=set()\n",
    "   \n",
    "    \n",
    "    for numbers in arr:\n",
    "        new_target = target - numbers\n",
    "        if numbers not in seen:\n",
    "            seen.add(new_target)\n",
    "        else:\n",
    "            output.add((min(numbers,new_target),max(numbers,new_target)))\n",
    "            \n",
    "#     print\"\\n\".join(map(str,list(output)))\n",
    "    print(output)"
   ]
  },
  {
   "cell_type": "code",
   "execution_count": 2,
   "metadata": {},
   "outputs": [
    {
     "name": "stdout",
     "output_type": "stream",
     "text": [
      "{(1, 3), (2, 2)}\n"
     ]
    }
   ],
   "source": [
    "pair_sum([1,3,2,2],4)"
   ]
  },
  {
   "cell_type": "code",
   "execution_count": 3,
   "metadata": {},
   "outputs": [],
   "source": [
    "def pair_sum(arr,target):\n",
    "    \n",
    "    if len(arr)== 0:\n",
    "        raise ValueError (\"Invalid \")\n",
    "    \n",
    "    seen = set()\n",
    "    output=set()\n",
    "   \n",
    "    \n",
    "    for numbers in arr:\n",
    "        complement = target - numbers\n",
    "        if numbers not in seen:\n",
    "            seen.add(complement)\n",
    "        else:\n",
    "            output.add((min(numbers,complement),max(numbers,complement)))\n",
    "            \n",
    "#     print\"\\n\".join(map(str,list(output)))\n",
    "    print(output)"
   ]
  },
  {
   "cell_type": "code",
   "execution_count": 4,
   "metadata": {},
   "outputs": [
    {
     "name": "stdout",
     "output_type": "stream",
     "text": [
      "{(1, 6)}\n"
     ]
    }
   ],
   "source": [
    "pair_sum([1,6,2,2],7)"
   ]
  },
  {
   "cell_type": "code",
   "execution_count": null,
   "metadata": {},
   "outputs": [],
   "source": []
  }
 ],
 "metadata": {
  "kernelspec": {
   "display_name": "Python 3",
   "language": "python",
   "name": "python3"
  },
  "language_info": {
   "codemirror_mode": {
    "name": "ipython",
    "version": 3
   },
   "file_extension": ".py",
   "mimetype": "text/x-python",
   "name": "python",
   "nbconvert_exporter": "python",
   "pygments_lexer": "ipython3",
   "version": "3.6.5"
  }
 },
 "nbformat": 4,
 "nbformat_minor": 2
}
