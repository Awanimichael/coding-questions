{
 "cells": [
  {
   "cell_type": "code",
   "execution_count": 65,
   "metadata": {},
   "outputs": [],
   "source": [
    "#Giving an array sorted in ascending order and rotated, for example[3,4,5,1,2]. find the minimum element.\n",
    "\n",
    "def findMin(arr):\n",
    "    left = 0\n",
    "    right = len(arr)-1\n",
    "    if len(arr) == 0:\n",
    "        return -1\n",
    "    if len(arr) == 1:\n",
    "        return 0\n",
    "    if arr[left] < arr[right]:\n",
    "        return 0\n",
    "    while left <= right:\n",
    "        pivot = left+(right-left)//2\n",
    "        \n",
    "        if arr[pivot] > arr[pivot+1]:\n",
    "            return arr[pivot+1]\n",
    "        else:\n",
    "            if arr[pivot] < arr[left]:\n",
    "                right = pivot - 1\n",
    "            left = pivot + 1"
   ]
  },
  {
   "cell_type": "code",
   "execution_count": 66,
   "metadata": {},
   "outputs": [
    {
     "name": "stdout",
     "output_type": "stream",
     "text": [
      "1\n"
     ]
    }
   ],
   "source": [
    "print(findMin([3,4,5,1,2]))"
   ]
  },
  {
   "cell_type": "code",
   "execution_count": null,
   "metadata": {},
   "outputs": [],
   "source": []
  }
 ],
 "metadata": {
  "kernelspec": {
   "display_name": "Python 3",
   "language": "python",
   "name": "python3"
  },
  "language_info": {
   "codemirror_mode": {
    "name": "ipython",
    "version": 3
   },
   "file_extension": ".py",
   "mimetype": "text/x-python",
   "name": "python",
   "nbconvert_exporter": "python",
   "pygments_lexer": "ipython3",
   "version": "3.6.5"
  }
 },
 "nbformat": 4,
 "nbformat_minor": 2
}
