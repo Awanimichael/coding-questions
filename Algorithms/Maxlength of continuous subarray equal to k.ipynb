{
 "cells": [
  {
   "cell_type": "code",
   "execution_count": 134,
   "metadata": {},
   "outputs": [],
   "source": [
    "#giving an integer of array and an interger k, return the maximum length of continuous subarray that equalsto k. \n",
    "#if it does not exist, return 0. ex. [1,-1,5,-2,3], k= 3\n",
    "\n",
    "def subarraySum(arr, k):\n",
    "        d = {}\n",
    "        current_sum = 0\n",
    "        if len(arr) == 0:\n",
    "            return -1\n",
    "        if len(arr) == 1:\n",
    "            if arr[0] == k:\n",
    "                return len(arr)\n",
    "            else:\n",
    "                return 0\n",
    "        for val in arr:\n",
    "            if val not in d:\n",
    "                d[val]= 1\n",
    "                current_sum = sum(d.keys())\n",
    "                if current_sum == k:\n",
    "                    return len(d)\n",
    "        return 0\n",
    "              \n",
    "               "
   ]
  },
  {
   "cell_type": "code",
   "execution_count": 135,
   "metadata": {},
   "outputs": [
    {
     "name": "stdout",
     "output_type": "stream",
     "text": [
      "4\n"
     ]
    }
   ],
   "source": [
    "print(subarraySum([1,-1,5,-2,3], 3))"
   ]
  },
  {
   "cell_type": "code",
   "execution_count": null,
   "metadata": {},
   "outputs": [],
   "source": []
  }
 ],
 "metadata": {
  "kernelspec": {
   "display_name": "Python 3",
   "language": "python",
   "name": "python3"
  },
  "language_info": {
   "codemirror_mode": {
    "name": "ipython",
    "version": 3
   },
   "file_extension": ".py",
   "mimetype": "text/x-python",
   "name": "python",
   "nbconvert_exporter": "python",
   "pygments_lexer": "ipython3",
   "version": "3.6.5"
  }
 },
 "nbformat": 4,
 "nbformat_minor": 2
}
