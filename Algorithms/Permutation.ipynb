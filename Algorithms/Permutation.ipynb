{
 "cells": [
  {
   "cell_type": "code",
   "execution_count": 49,
   "metadata": {},
   "outputs": [],
   "source": [
    "def toString(arr):\n",
    "    return ''.join(arr)\n",
    "\n",
    "def permute(arr, f, r):\n",
    "    myset = set()\n",
    "    r = len(arr)-1\n",
    "    if f == r:\n",
    "        print(toString(arr))\n",
    "    else:\n",
    "        for val in range(f, r+1):\n",
    "            arr[f],arr[val] = arr[val], arr[f]\n",
    "            permute(arr,f+1,r)\n",
    "            arr[f],arr[val] = arr[val], arr[f]\n",
    "            "
   ]
  },
  {
   "cell_type": "code",
   "execution_count": 50,
   "metadata": {},
   "outputs": [],
   "source": [
    "print(permute(['A','B','A'], 0, 2))"
   ]
  }
 ],
 "metadata": {
  "kernelspec": {
   "display_name": "Python 3",
   "language": "python",
   "name": "python3"
  },
  "language_info": {
   "codemirror_mode": {
    "name": "ipython",
    "version": 3
   },
   "file_extension": ".py",
   "mimetype": "text/x-python",
   "name": "python",
   "nbconvert_exporter": "python",
   "pygments_lexer": "ipython3",
   "version": "3.6.5"
  }
 },
 "nbformat": 4,
 "nbformat_minor": 2
}
