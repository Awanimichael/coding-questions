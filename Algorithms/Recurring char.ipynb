{
 "cells": [
  {
   "cell_type": "code",
   "execution_count": 14,
   "metadata": {},
   "outputs": [],
   "source": [
    "def first_recurring(string):\n",
    "    mydict = {} \n",
    "    for char in string:\n",
    "        if char in mydict:\n",
    "            return char\n",
    "        mydict[char] = 1\n",
    "    return 'No recurring char'\n"
   ]
  },
  {
   "cell_type": "code",
   "execution_count": 16,
   "metadata": {},
   "outputs": [
    {
     "name": "stdout",
     "output_type": "stream",
     "text": [
      "d\n"
     ]
    }
   ],
   "source": [
    "print (first_recurring('dabcdb'))"
   ]
  },
  {
   "cell_type": "code",
   "execution_count": 58,
   "metadata": {},
   "outputs": [],
   "source": [
    "def frist_non_recurring(string):\n",
    "    mylist = []\n",
    "    mydict = {}\n",
    "    \n",
    "    for char in string:\n",
    "        if char in mydict:\n",
    "            mydict[char] += 1\n",
    "        else:\n",
    "            mydict[char] = 1\n",
    "            mylist.append(char)\n",
    "    for char in mylist:\n",
    "        if mydict[char] == 1:\n",
    "            return char\n",
    "    return None\n",
    "    "
   ]
  },
  {
   "cell_type": "code",
   "execution_count": 59,
   "metadata": {},
   "outputs": [
    {
     "name": "stdout",
     "output_type": "stream",
     "text": [
      "d\n"
     ]
    }
   ],
   "source": [
    "print (frist_non_recurring('abcabcdef'))"
   ]
  },
  {
   "cell_type": "code",
   "execution_count": 54,
   "metadata": {},
   "outputs": [],
   "source": [
    "def all_recurring(string):\n",
    "    mydict = {}\n",
    "    mylist = []\n",
    "    \n",
    "    for char in string:\n",
    "        if char in mydict:\n",
    "            mydict[char] += 1\n",
    "            mylist.append(char)\n",
    "        else:\n",
    "            mydict[char] = 1\n",
    "    if not mylist:\n",
    "        return 'No recurring char'\n",
    "    else:\n",
    "        return mylist"
   ]
  },
  {
   "cell_type": "code",
   "execution_count": 55,
   "metadata": {},
   "outputs": [
    {
     "name": "stdout",
     "output_type": "stream",
     "text": [
      "No recurring char\n"
     ]
    }
   ],
   "source": [
    "print(all_recurring('abcdefg'))"
   ]
  }
 ],
 "metadata": {
  "kernelspec": {
   "display_name": "Python 3",
   "language": "python",
   "name": "python3"
  },
  "language_info": {
   "codemirror_mode": {
    "name": "ipython",
    "version": 3
   },
   "file_extension": ".py",
   "mimetype": "text/x-python",
   "name": "python",
   "nbconvert_exporter": "python",
   "pygments_lexer": "ipython3",
   "version": "3.6.5"
  }
 },
 "nbformat": 4,
 "nbformat_minor": 2
}
